{
 "cells": [
  {
   "cell_type": "markdown",
   "metadata": {},
   "source": [
    "# Laboration 10\n",
    "__Lorem ipsum dolor__ sit amet, consectetur adipiscing elit. Suspendisse rhoncus, felis non imperdiet ornare, metus mauris ultrices nibh, et ornare erat metus sed ipsum. Ut sit amet sapien nisi. Nunc nec enim nec nibh blandit luctus quis id ante. Curabitur quis __porttitor__ elit. Sed nec magna vel quam cursus pretium in vel nulla. Pellentesque ac eros ut velit fringilla elementum eget sit amet ligula. Etiam porttitor dolor mi, a congue justo eleifend nec. Morbi et felis at ante aliquet condimentum id ac metus. Nulla non fringilla justo, vel feugiat risus. In at eros eu neque __condimentum sodales__.\n",
    "\n",
    "$$F(D) = \\int_0^D p\\cdot(D-y)\\cdot w(y)$$\n",
    "\n",
    "Nam sollicitudin suscipit magna. Suspendisse porttitor congue tellus ut gravida. Mauris convallis justo et mollis suscipit. Pellentesque convallis turpis in imperdiet commodo. Vivamus pulvinar viverra neque at mattis. Nullam at leo sit amet metus pulvinar rhoncus. Praesent faucibus orci sit amet sodales tristique. Nam magna arcu, laoreet vel erat nec, mattis imperdiet massa.\n",
    "\n",
    "<img src='trapez.png'/>\n",
    "\n",
    "## Skapa matris\n",
    "* Koden nedan lagrar till variabeln `A` matrisen\n",
    "$$A = \\begin{pmatrix}1 & 2 \\\\ 3 & 4 \\end{pmatrix}$$\n",
    "och skriver ut den. Kör koden genom att markera cellen och trycka `Skift + Enter`."
   ]
  },
  {
   "cell_type": "code",
   "execution_count": null,
   "metadata": {
    "collapsed": true
   },
   "outputs": [],
   "source": [
    "import numpy as np\n",
    "A = np.array([[1,2],\n",
    "              [3,4]])"
   ]
  },
  {
   "cell_type": "code",
   "execution_count": null,
   "metadata": {
    "collapsed": false
   },
   "outputs": [],
   "source": [
    "print(A)"
   ]
  },
  {
   "cell_type": "markdown",
   "metadata": {},
   "source": [
    "## Integrera funktion\n",
    "* Koden nedan definierar en funktion $f(x) = e^x$ och beräknar integralen $I = \\int_0^1 f(x)\\,dx$ med funktionen `scipy.integrate.quad`."
   ]
  },
  {
   "cell_type": "code",
   "execution_count": null,
   "metadata": {
    "collapsed": false
   },
   "outputs": [],
   "source": [
    "import scipy.integrate as integrate\n",
    "\n",
    "def f(x):\n",
    "    return np.exp(x)\n",
    "\n",
    "I, err = integrate.quad(f, 0, 1)\n",
    "\n",
    "print(\"Integralens värde är {:.2f} (med feltolerans = {:.1e})\".format(I, err))"
   ]
  },
  {
   "cell_type": "markdown",
   "metadata": {},
   "source": [
    "* Ändra i koden ovan och integrera istället funktionen $g(x) = \\sin(10x)$ över samma intervall. Definiera en funktion `g` och ändra i anropet till `quad`."
   ]
  },
  {
   "cell_type": "markdown",
   "metadata": {},
   "source": [
    "## Plotta\n",
    "* Kör koden nedan för att rita en graf av funktionen $f$ ovan."
   ]
  },
  {
   "cell_type": "code",
   "execution_count": null,
   "metadata": {
    "collapsed": false
   },
   "outputs": [],
   "source": [
    "%matplotlib inline\n",
    "import matplotlib.pyplot as plt\n",
    "\n",
    "x = np.linspace(0,1)\n",
    "plt.plot(x, f(x))"
   ]
  },
  {
   "cell_type": "markdown",
   "metadata": {},
   "source": [
    "## Exportera som PDF\n",
    "* Det går att spara körningsresultaten som PDF/HTML m.m.\n",
    "\n",
    "## Motsvarande finns tillgängligt för MATLAB genom MATLAB Live Editor"
   ]
  }
 ],
 "metadata": {
  "kernelspec": {
   "display_name": "Python 3",
   "language": "python",
   "name": "python3"
  },
  "language_info": {
   "codemirror_mode": {
    "name": "ipython",
    "version": 3
   },
   "file_extension": ".py",
   "mimetype": "text/x-python",
   "name": "python",
   "nbconvert_exporter": "python",
   "pygments_lexer": "ipython3",
   "version": "3.4.3+"
  }
 },
 "nbformat": 4,
 "nbformat_minor": 0
}
